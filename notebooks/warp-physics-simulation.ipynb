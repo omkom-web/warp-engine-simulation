{
  "nbformat": 4,
  "nbformat_minor": 0,
  "metadata": {
    "colab": {
      "provenance": []
    },
    "kernelspec": {
      "name": "python3",
      "display_name": "Python 3"
    },
    "language_info": {
      "name": "python"
    },
    "widgets": {
      "application/vnd.jupyter.widget-state+json": {
        "df2b8bf136fb4d7195fb7dffcb02d1bd": {
          "model_module": "@jupyter-widgets/controls",
          "model_name": "VBoxModel",
          "model_module_version": "1.5.0",
          "state": {
            "_dom_classes": [],
            "_model_module": "@jupyter-widgets/controls",
            "_model_module_version": "1.5.0",
            "_model_name": "VBoxModel",
            "_view_count": null,
            "_view_module": "@jupyter-widgets/controls",
            "_view_module_version": "1.5.0",
            "_view_name": "VBoxView",
            "box_style": "",
            "children": [
              "IPY_MODEL_b4d60b5a0c3841c69d6877b8d74b93bb",
              "IPY_MODEL_045397e9517c401da897814a51743faf",
              "IPY_MODEL_74edf4d697c54c2f9eab7c476a9fce16",
              "IPY_MODEL_33a9e091841c4300bf7cc0302e8c62ac"
            ],
            "layout": "IPY_MODEL_57c268e8d9234ad7a82674991ad5cf17"
          }
        },
        "b4d60b5a0c3841c69d6877b8d74b93bb": {
          "model_module": "@jupyter-widgets/controls",
          "model_name": "FloatSliderModel",
          "model_module_version": "1.5.0",
          "state": {
            "_dom_classes": [],
            "_model_module": "@jupyter-widgets/controls",
            "_model_module_version": "1.5.0",
            "_model_name": "FloatSliderModel",
            "_view_count": null,
            "_view_module": "@jupyter-widgets/controls",
            "_view_module_version": "1.5.0",
            "_view_name": "FloatSliderView",
            "continuous_update": true,
            "description": "v (c)",
            "description_tooltip": null,
            "disabled": false,
            "layout": "IPY_MODEL_e53f04ac42014257a253ee62101633f3",
            "max": 0.99,
            "min": 0.01,
            "orientation": "horizontal",
            "readout": true,
            "readout_format": ".2f",
            "step": 0.01,
            "style": "IPY_MODEL_07b7f83e73404941869c3ed99e7b0ff3",
            "value": 0.5
          }
        },
        "045397e9517c401da897814a51743faf": {
          "model_module": "@jupyter-widgets/controls",
          "model_name": "FloatSliderModel",
          "model_module_version": "1.5.0",
          "state": {
            "_dom_classes": [],
            "_model_module": "@jupyter-widgets/controls",
            "_model_module_version": "1.5.0",
            "_model_name": "FloatSliderModel",
            "_view_count": null,
            "_view_module": "@jupyter-widgets/controls",
            "_view_module_version": "1.5.0",
            "_view_name": "FloatSliderView",
            "continuous_update": true,
            "description": "σ",
            "description_tooltip": null,
            "disabled": false,
            "layout": "IPY_MODEL_0a7d05ce9b3b47089172025e0e08477e",
            "max": 5,
            "min": 0.1,
            "orientation": "horizontal",
            "readout": true,
            "readout_format": ".2f",
            "step": 0.1,
            "style": "IPY_MODEL_a0350a6ae6394b119e595975ea77a124",
            "value": 1.0000000000000002
          }
        },
        "74edf4d697c54c2f9eab7c476a9fce16": {
          "model_module": "@jupyter-widgets/controls",
          "model_name": "FloatSliderModel",
          "model_module_version": "1.5.0",
          "state": {
            "_dom_classes": [],
            "_model_module": "@jupyter-widgets/controls",
            "_model_module_version": "1.5.0",
            "_model_name": "FloatSliderModel",
            "_view_count": null,
            "_view_module": "@jupyter-widgets/controls",
            "_view_module_version": "1.5.0",
            "_view_name": "FloatSliderView",
            "continuous_update": true,
            "description": "t",
            "description_tooltip": null,
            "disabled": false,
            "layout": "IPY_MODEL_dcc9ee5f2fef421aa331c4179c740e58",
            "max": 20,
            "min": 0,
            "orientation": "horizontal",
            "readout": true,
            "readout_format": ".2f",
            "step": 0.1,
            "style": "IPY_MODEL_c92e7a516e1c4b1d9d7d682bba3fe556",
            "value": 5
          }
        },
        "33a9e091841c4300bf7cc0302e8c62ac": {
          "model_module": "@jupyter-widgets/output",
          "model_name": "OutputModel",
          "model_module_version": "1.0.0",
          "state": {
            "_dom_classes": [],
            "_model_module": "@jupyter-widgets/output",
            "_model_module_version": "1.0.0",
            "_model_name": "OutputModel",
            "_view_count": null,
            "_view_module": "@jupyter-widgets/output",
            "_view_module_version": "1.0.0",
            "_view_name": "OutputView",
            "layout": "IPY_MODEL_4e51ad5b7cdd49efbe7f3d006d3bf04a",
            "msg_id": "",
            "outputs": [
              {
                "output_type": "display_data",
                "data": {
                  "text/plain": "<Figure size 1000x400 with 1 Axes>",
                  "image/png": "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\n"
                },
                "metadata": {}
              }
            ]
          }
        },
        "57c268e8d9234ad7a82674991ad5cf17": {
          "model_module": "@jupyter-widgets/base",
          "model_name": "LayoutModel",
          "model_module_version": "1.2.0",
          "state": {
            "_model_module": "@jupyter-widgets/base",
            "_model_module_version": "1.2.0",
            "_model_name": "LayoutModel",
            "_view_count": null,
            "_view_module": "@jupyter-widgets/base",
            "_view_module_version": "1.2.0",
            "_view_name": "LayoutView",
            "align_content": null,
            "align_items": null,
            "align_self": null,
            "border": null,
            "bottom": null,
            "display": null,
            "flex": null,
            "flex_flow": null,
            "grid_area": null,
            "grid_auto_columns": null,
            "grid_auto_flow": null,
            "grid_auto_rows": null,
            "grid_column": null,
            "grid_gap": null,
            "grid_row": null,
            "grid_template_areas": null,
            "grid_template_columns": null,
            "grid_template_rows": null,
            "height": null,
            "justify_content": null,
            "justify_items": null,
            "left": null,
            "margin": null,
            "max_height": null,
            "max_width": null,
            "min_height": null,
            "min_width": null,
            "object_fit": null,
            "object_position": null,
            "order": null,
            "overflow": null,
            "overflow_x": null,
            "overflow_y": null,
            "padding": null,
            "right": null,
            "top": null,
            "visibility": null,
            "width": null
          }
        },
        "e53f04ac42014257a253ee62101633f3": {
          "model_module": "@jupyter-widgets/base",
          "model_name": "LayoutModel",
          "model_module_version": "1.2.0",
          "state": {
            "_model_module": "@jupyter-widgets/base",
            "_model_module_version": "1.2.0",
            "_model_name": "LayoutModel",
            "_view_count": null,
            "_view_module": "@jupyter-widgets/base",
            "_view_module_version": "1.2.0",
            "_view_name": "LayoutView",
            "align_content": null,
            "align_items": null,
            "align_self": null,
            "border": null,
            "bottom": null,
            "display": null,
            "flex": null,
            "flex_flow": null,
            "grid_area": null,
            "grid_auto_columns": null,
            "grid_auto_flow": null,
            "grid_auto_rows": null,
            "grid_column": null,
            "grid_gap": null,
            "grid_row": null,
            "grid_template_areas": null,
            "grid_template_columns": null,
            "grid_template_rows": null,
            "height": null,
            "justify_content": null,
            "justify_items": null,
            "left": null,
            "margin": null,
            "max_height": null,
            "max_width": null,
            "min_height": null,
            "min_width": null,
            "object_fit": null,
            "object_position": null,
            "order": null,
            "overflow": null,
            "overflow_x": null,
            "overflow_y": null,
            "padding": null,
            "right": null,
            "top": null,
            "visibility": null,
            "width": null
          }
        },
        "07b7f83e73404941869c3ed99e7b0ff3": {
          "model_module": "@jupyter-widgets/controls",
          "model_name": "SliderStyleModel",
          "model_module_version": "1.5.0",
          "state": {
            "_model_module": "@jupyter-widgets/controls",
            "_model_module_version": "1.5.0",
            "_model_name": "SliderStyleModel",
            "_view_count": null,
            "_view_module": "@jupyter-widgets/base",
            "_view_module_version": "1.2.0",
            "_view_name": "StyleView",
            "description_width": "",
            "handle_color": null
          }
        },
        "0a7d05ce9b3b47089172025e0e08477e": {
          "model_module": "@jupyter-widgets/base",
          "model_name": "LayoutModel",
          "model_module_version": "1.2.0",
          "state": {
            "_model_module": "@jupyter-widgets/base",
            "_model_module_version": "1.2.0",
            "_model_name": "LayoutModel",
            "_view_count": null,
            "_view_module": "@jupyter-widgets/base",
            "_view_module_version": "1.2.0",
            "_view_name": "LayoutView",
            "align_content": null,
            "align_items": null,
            "align_self": null,
            "border": null,
            "bottom": null,
            "display": null,
            "flex": null,
            "flex_flow": null,
            "grid_area": null,
            "grid_auto_columns": null,
            "grid_auto_flow": null,
            "grid_auto_rows": null,
            "grid_column": null,
            "grid_gap": null,
            "grid_row": null,
            "grid_template_areas": null,
            "grid_template_columns": null,
            "grid_template_rows": null,
            "height": null,
            "justify_content": null,
            "justify_items": null,
            "left": null,
            "margin": null,
            "max_height": null,
            "max_width": null,
            "min_height": null,
            "min_width": null,
            "object_fit": null,
            "object_position": null,
            "order": null,
            "overflow": null,
            "overflow_x": null,
            "overflow_y": null,
            "padding": null,
            "right": null,
            "top": null,
            "visibility": null,
            "width": null
          }
        },
        "a0350a6ae6394b119e595975ea77a124": {
          "model_module": "@jupyter-widgets/controls",
          "model_name": "SliderStyleModel",
          "model_module_version": "1.5.0",
          "state": {
            "_model_module": "@jupyter-widgets/controls",
            "_model_module_version": "1.5.0",
            "_model_name": "SliderStyleModel",
            "_view_count": null,
            "_view_module": "@jupyter-widgets/base",
            "_view_module_version": "1.2.0",
            "_view_name": "StyleView",
            "description_width": "",
            "handle_color": null
          }
        },
        "dcc9ee5f2fef421aa331c4179c740e58": {
          "model_module": "@jupyter-widgets/base",
          "model_name": "LayoutModel",
          "model_module_version": "1.2.0",
          "state": {
            "_model_module": "@jupyter-widgets/base",
            "_model_module_version": "1.2.0",
            "_model_name": "LayoutModel",
            "_view_count": null,
            "_view_module": "@jupyter-widgets/base",
            "_view_module_version": "1.2.0",
            "_view_name": "LayoutView",
            "align_content": null,
            "align_items": null,
            "align_self": null,
            "border": null,
            "bottom": null,
            "display": null,
            "flex": null,
            "flex_flow": null,
            "grid_area": null,
            "grid_auto_columns": null,
            "grid_auto_flow": null,
            "grid_auto_rows": null,
            "grid_column": null,
            "grid_gap": null,
            "grid_row": null,
            "grid_template_areas": null,
            "grid_template_columns": null,
            "grid_template_rows": null,
            "height": null,
            "justify_content": null,
            "justify_items": null,
            "left": null,
            "margin": null,
            "max_height": null,
            "max_width": null,
            "min_height": null,
            "min_width": null,
            "object_fit": null,
            "object_position": null,
            "order": null,
            "overflow": null,
            "overflow_x": null,
            "overflow_y": null,
            "padding": null,
            "right": null,
            "top": null,
            "visibility": null,
            "width": null
          }
        },
        "c92e7a516e1c4b1d9d7d682bba3fe556": {
          "model_module": "@jupyter-widgets/controls",
          "model_name": "SliderStyleModel",
          "model_module_version": "1.5.0",
          "state": {
            "_model_module": "@jupyter-widgets/controls",
            "_model_module_version": "1.5.0",
            "_model_name": "SliderStyleModel",
            "_view_count": null,
            "_view_module": "@jupyter-widgets/base",
            "_view_module_version": "1.2.0",
            "_view_name": "StyleView",
            "description_width": "",
            "handle_color": null
          }
        },
        "4e51ad5b7cdd49efbe7f3d006d3bf04a": {
          "model_module": "@jupyter-widgets/base",
          "model_name": "LayoutModel",
          "model_module_version": "1.2.0",
          "state": {
            "_model_module": "@jupyter-widgets/base",
            "_model_module_version": "1.2.0",
            "_model_name": "LayoutModel",
            "_view_count": null,
            "_view_module": "@jupyter-widgets/base",
            "_view_module_version": "1.2.0",
            "_view_name": "LayoutView",
            "align_content": null,
            "align_items": null,
            "align_self": null,
            "border": null,
            "bottom": null,
            "display": null,
            "flex": null,
            "flex_flow": null,
            "grid_area": null,
            "grid_auto_columns": null,
            "grid_auto_flow": null,
            "grid_auto_rows": null,
            "grid_column": null,
            "grid_gap": null,
            "grid_row": null,
            "grid_template_areas": null,
            "grid_template_columns": null,
            "grid_template_rows": null,
            "height": null,
            "justify_content": null,
            "justify_items": null,
            "left": null,
            "margin": null,
            "max_height": null,
            "max_width": null,
            "min_height": null,
            "min_width": null,
            "object_fit": null,
            "object_position": null,
            "order": null,
            "overflow": null,
            "overflow_x": null,
            "overflow_y": null,
            "padding": null,
            "right": null,
            "top": null,
            "visibility": null,
            "width": null
          }
        }
      }
    }
  },
  "cells": [
    {
      "cell_type": "code",
      "execution_count": 4,
      "metadata": {
        "colab": {
          "base_uri": "https://localhost:8080/"
        },
        "collapsed": true,
        "id": "UqKnN3FcPCEC",
        "outputId": "f8f9cd3a-20b5-4104-a149-a38c5275ca81"
      },
      "outputs": [
        {
          "output_type": "stream",
          "name": "stdout",
          "text": [
            "Requirement already satisfied: ipywidgets in /usr/local/lib/python3.11/dist-packages (7.7.1)\n",
            "Requirement already satisfied: plotly in /usr/local/lib/python3.11/dist-packages (5.24.1)\n",
            "Requirement already satisfied: ipykernel>=4.5.1 in /usr/local/lib/python3.11/dist-packages (from ipywidgets) (6.17.1)\n",
            "Requirement already satisfied: ipython-genutils~=0.2.0 in /usr/local/lib/python3.11/dist-packages (from ipywidgets) (0.2.0)\n",
            "Requirement already satisfied: traitlets>=4.3.1 in /usr/local/lib/python3.11/dist-packages (from ipywidgets) (5.7.1)\n",
            "Requirement already satisfied: widgetsnbextension~=3.6.0 in /usr/local/lib/python3.11/dist-packages (from ipywidgets) (3.6.10)\n",
            "Requirement already satisfied: ipython>=4.0.0 in /usr/local/lib/python3.11/dist-packages (from ipywidgets) (7.34.0)\n",
            "Requirement already satisfied: jupyterlab-widgets>=1.0.0 in /usr/local/lib/python3.11/dist-packages (from ipywidgets) (3.0.15)\n",
            "Requirement already satisfied: tenacity>=6.2.0 in /usr/local/lib/python3.11/dist-packages (from plotly) (9.1.2)\n",
            "Requirement already satisfied: packaging in /usr/local/lib/python3.11/dist-packages (from plotly) (24.2)\n",
            "Requirement already satisfied: debugpy>=1.0 in /usr/local/lib/python3.11/dist-packages (from ipykernel>=4.5.1->ipywidgets) (1.8.0)\n",
            "Requirement already satisfied: jupyter-client>=6.1.12 in /usr/local/lib/python3.11/dist-packages (from ipykernel>=4.5.1->ipywidgets) (6.1.12)\n",
            "Requirement already satisfied: matplotlib-inline>=0.1 in /usr/local/lib/python3.11/dist-packages (from ipykernel>=4.5.1->ipywidgets) (0.1.7)\n",
            "Requirement already satisfied: nest-asyncio in /usr/local/lib/python3.11/dist-packages (from ipykernel>=4.5.1->ipywidgets) (1.6.0)\n",
            "Requirement already satisfied: psutil in /usr/local/lib/python3.11/dist-packages (from ipykernel>=4.5.1->ipywidgets) (5.9.5)\n",
            "Requirement already satisfied: pyzmq>=17 in /usr/local/lib/python3.11/dist-packages (from ipykernel>=4.5.1->ipywidgets) (24.0.1)\n",
            "Requirement already satisfied: tornado>=6.1 in /usr/local/lib/python3.11/dist-packages (from ipykernel>=4.5.1->ipywidgets) (6.4.2)\n",
            "Requirement already satisfied: setuptools>=18.5 in /usr/local/lib/python3.11/dist-packages (from ipython>=4.0.0->ipywidgets) (75.2.0)\n",
            "Requirement already satisfied: jedi>=0.16 in /usr/local/lib/python3.11/dist-packages (from ipython>=4.0.0->ipywidgets) (0.19.2)\n",
            "Requirement already satisfied: decorator in /usr/local/lib/python3.11/dist-packages (from ipython>=4.0.0->ipywidgets) (4.4.2)\n",
            "Requirement already satisfied: pickleshare in /usr/local/lib/python3.11/dist-packages (from ipython>=4.0.0->ipywidgets) (0.7.5)\n",
            "Requirement already satisfied: prompt-toolkit!=3.0.0,!=3.0.1,<3.1.0,>=2.0.0 in /usr/local/lib/python3.11/dist-packages (from ipython>=4.0.0->ipywidgets) (3.0.51)\n",
            "Requirement already satisfied: pygments in /usr/local/lib/python3.11/dist-packages (from ipython>=4.0.0->ipywidgets) (2.19.1)\n",
            "Requirement already satisfied: backcall in /usr/local/lib/python3.11/dist-packages (from ipython>=4.0.0->ipywidgets) (0.2.0)\n",
            "Requirement already satisfied: pexpect>4.3 in /usr/local/lib/python3.11/dist-packages (from ipython>=4.0.0->ipywidgets) (4.9.0)\n",
            "Requirement already satisfied: notebook>=4.4.1 in /usr/local/lib/python3.11/dist-packages (from widgetsnbextension~=3.6.0->ipywidgets) (6.5.7)\n",
            "Requirement already satisfied: parso<0.9.0,>=0.8.4 in /usr/local/lib/python3.11/dist-packages (from jedi>=0.16->ipython>=4.0.0->ipywidgets) (0.8.4)\n",
            "Requirement already satisfied: jupyter-core>=4.6.0 in /usr/local/lib/python3.11/dist-packages (from jupyter-client>=6.1.12->ipykernel>=4.5.1->ipywidgets) (5.7.2)\n",
            "Requirement already satisfied: python-dateutil>=2.1 in /usr/local/lib/python3.11/dist-packages (from jupyter-client>=6.1.12->ipykernel>=4.5.1->ipywidgets) (2.9.0.post0)\n",
            "Requirement already satisfied: jinja2 in /usr/local/lib/python3.11/dist-packages (from notebook>=4.4.1->widgetsnbextension~=3.6.0->ipywidgets) (3.1.6)\n",
            "Requirement already satisfied: argon2-cffi in /usr/local/lib/python3.11/dist-packages (from notebook>=4.4.1->widgetsnbextension~=3.6.0->ipywidgets) (23.1.0)\n",
            "Requirement already satisfied: nbformat in /usr/local/lib/python3.11/dist-packages (from notebook>=4.4.1->widgetsnbextension~=3.6.0->ipywidgets) (5.10.4)\n",
            "Requirement already satisfied: nbconvert>=5 in /usr/local/lib/python3.11/dist-packages (from notebook>=4.4.1->widgetsnbextension~=3.6.0->ipywidgets) (7.16.6)\n",
            "Requirement already satisfied: Send2Trash>=1.8.0 in /usr/local/lib/python3.11/dist-packages (from notebook>=4.4.1->widgetsnbextension~=3.6.0->ipywidgets) (1.8.3)\n",
            "Requirement already satisfied: terminado>=0.8.3 in /usr/local/lib/python3.11/dist-packages (from notebook>=4.4.1->widgetsnbextension~=3.6.0->ipywidgets) (0.18.1)\n",
            "Requirement already satisfied: prometheus-client in /usr/local/lib/python3.11/dist-packages (from notebook>=4.4.1->widgetsnbextension~=3.6.0->ipywidgets) (0.21.1)\n",
            "Requirement already satisfied: nbclassic>=0.4.7 in /usr/local/lib/python3.11/dist-packages (from notebook>=4.4.1->widgetsnbextension~=3.6.0->ipywidgets) (1.3.1)\n",
            "Requirement already satisfied: ptyprocess>=0.5 in /usr/local/lib/python3.11/dist-packages (from pexpect>4.3->ipython>=4.0.0->ipywidgets) (0.7.0)\n",
            "Requirement already satisfied: wcwidth in /usr/local/lib/python3.11/dist-packages (from prompt-toolkit!=3.0.0,!=3.0.1,<3.1.0,>=2.0.0->ipython>=4.0.0->ipywidgets) (0.2.13)\n",
            "Requirement already satisfied: platformdirs>=2.5 in /usr/local/lib/python3.11/dist-packages (from jupyter-core>=4.6.0->jupyter-client>=6.1.12->ipykernel>=4.5.1->ipywidgets) (4.3.8)\n",
            "Requirement already satisfied: notebook-shim>=0.2.3 in /usr/local/lib/python3.11/dist-packages (from nbclassic>=0.4.7->notebook>=4.4.1->widgetsnbextension~=3.6.0->ipywidgets) (0.2.4)\n",
            "Requirement already satisfied: beautifulsoup4 in /usr/local/lib/python3.11/dist-packages (from nbconvert>=5->notebook>=4.4.1->widgetsnbextension~=3.6.0->ipywidgets) (4.13.4)\n",
            "Requirement already satisfied: bleach!=5.0.0 in /usr/local/lib/python3.11/dist-packages (from bleach[css]!=5.0.0->nbconvert>=5->notebook>=4.4.1->widgetsnbextension~=3.6.0->ipywidgets) (6.2.0)\n",
            "Requirement already satisfied: defusedxml in /usr/local/lib/python3.11/dist-packages (from nbconvert>=5->notebook>=4.4.1->widgetsnbextension~=3.6.0->ipywidgets) (0.7.1)\n",
            "Requirement already satisfied: jupyterlab-pygments in /usr/local/lib/python3.11/dist-packages (from nbconvert>=5->notebook>=4.4.1->widgetsnbextension~=3.6.0->ipywidgets) (0.3.0)\n",
            "Requirement already satisfied: markupsafe>=2.0 in /usr/local/lib/python3.11/dist-packages (from nbconvert>=5->notebook>=4.4.1->widgetsnbextension~=3.6.0->ipywidgets) (3.0.2)\n",
            "Requirement already satisfied: mistune<4,>=2.0.3 in /usr/local/lib/python3.11/dist-packages (from nbconvert>=5->notebook>=4.4.1->widgetsnbextension~=3.6.0->ipywidgets) (3.1.3)\n",
            "Requirement already satisfied: nbclient>=0.5.0 in /usr/local/lib/python3.11/dist-packages (from nbconvert>=5->notebook>=4.4.1->widgetsnbextension~=3.6.0->ipywidgets) (0.10.2)\n",
            "Requirement already satisfied: pandocfilters>=1.4.1 in /usr/local/lib/python3.11/dist-packages (from nbconvert>=5->notebook>=4.4.1->widgetsnbextension~=3.6.0->ipywidgets) (1.5.1)\n",
            "Requirement already satisfied: fastjsonschema>=2.15 in /usr/local/lib/python3.11/dist-packages (from nbformat->notebook>=4.4.1->widgetsnbextension~=3.6.0->ipywidgets) (2.21.1)\n",
            "Requirement already satisfied: jsonschema>=2.6 in /usr/local/lib/python3.11/dist-packages (from nbformat->notebook>=4.4.1->widgetsnbextension~=3.6.0->ipywidgets) (4.23.0)\n",
            "Requirement already satisfied: six>=1.5 in /usr/local/lib/python3.11/dist-packages (from python-dateutil>=2.1->jupyter-client>=6.1.12->ipykernel>=4.5.1->ipywidgets) (1.17.0)\n",
            "Requirement already satisfied: argon2-cffi-bindings in /usr/local/lib/python3.11/dist-packages (from argon2-cffi->notebook>=4.4.1->widgetsnbextension~=3.6.0->ipywidgets) (21.2.0)\n",
            "Requirement already satisfied: webencodings in /usr/local/lib/python3.11/dist-packages (from bleach!=5.0.0->bleach[css]!=5.0.0->nbconvert>=5->notebook>=4.4.1->widgetsnbextension~=3.6.0->ipywidgets) (0.5.1)\n",
            "Requirement already satisfied: tinycss2<1.5,>=1.1.0 in /usr/local/lib/python3.11/dist-packages (from bleach[css]!=5.0.0->nbconvert>=5->notebook>=4.4.1->widgetsnbextension~=3.6.0->ipywidgets) (1.4.0)\n",
            "Requirement already satisfied: attrs>=22.2.0 in /usr/local/lib/python3.11/dist-packages (from jsonschema>=2.6->nbformat->notebook>=4.4.1->widgetsnbextension~=3.6.0->ipywidgets) (25.3.0)\n",
            "Requirement already satisfied: jsonschema-specifications>=2023.03.6 in /usr/local/lib/python3.11/dist-packages (from jsonschema>=2.6->nbformat->notebook>=4.4.1->widgetsnbextension~=3.6.0->ipywidgets) (2025.4.1)\n",
            "Requirement already satisfied: referencing>=0.28.4 in /usr/local/lib/python3.11/dist-packages (from jsonschema>=2.6->nbformat->notebook>=4.4.1->widgetsnbextension~=3.6.0->ipywidgets) (0.36.2)\n",
            "Requirement already satisfied: rpds-py>=0.7.1 in /usr/local/lib/python3.11/dist-packages (from jsonschema>=2.6->nbformat->notebook>=4.4.1->widgetsnbextension~=3.6.0->ipywidgets) (0.24.0)\n",
            "Requirement already satisfied: jupyter-server<3,>=1.8 in /usr/local/lib/python3.11/dist-packages (from notebook-shim>=0.2.3->nbclassic>=0.4.7->notebook>=4.4.1->widgetsnbextension~=3.6.0->ipywidgets) (1.16.0)\n",
            "Requirement already satisfied: cffi>=1.0.1 in /usr/local/lib/python3.11/dist-packages (from argon2-cffi-bindings->argon2-cffi->notebook>=4.4.1->widgetsnbextension~=3.6.0->ipywidgets) (1.17.1)\n",
            "Requirement already satisfied: soupsieve>1.2 in /usr/local/lib/python3.11/dist-packages (from beautifulsoup4->nbconvert>=5->notebook>=4.4.1->widgetsnbextension~=3.6.0->ipywidgets) (2.7)\n",
            "Requirement already satisfied: typing-extensions>=4.0.0 in /usr/local/lib/python3.11/dist-packages (from beautifulsoup4->nbconvert>=5->notebook>=4.4.1->widgetsnbextension~=3.6.0->ipywidgets) (4.13.2)\n",
            "Requirement already satisfied: pycparser in /usr/local/lib/python3.11/dist-packages (from cffi>=1.0.1->argon2-cffi-bindings->argon2-cffi->notebook>=4.4.1->widgetsnbextension~=3.6.0->ipywidgets) (2.22)\n",
            "Requirement already satisfied: anyio>=3.1.0 in /usr/local/lib/python3.11/dist-packages (from jupyter-server<3,>=1.8->notebook-shim>=0.2.3->nbclassic>=0.4.7->notebook>=4.4.1->widgetsnbextension~=3.6.0->ipywidgets) (4.9.0)\n",
            "Requirement already satisfied: websocket-client in /usr/local/lib/python3.11/dist-packages (from jupyter-server<3,>=1.8->notebook-shim>=0.2.3->nbclassic>=0.4.7->notebook>=4.4.1->widgetsnbextension~=3.6.0->ipywidgets) (1.8.0)\n",
            "Requirement already satisfied: idna>=2.8 in /usr/local/lib/python3.11/dist-packages (from anyio>=3.1.0->jupyter-server<3,>=1.8->notebook-shim>=0.2.3->nbclassic>=0.4.7->notebook>=4.4.1->widgetsnbextension~=3.6.0->ipywidgets) (3.10)\n",
            "Requirement already satisfied: sniffio>=1.1 in /usr/local/lib/python3.11/dist-packages (from anyio>=3.1.0->jupyter-server<3,>=1.8->notebook-shim>=0.2.3->nbclassic>=0.4.7->notebook>=4.4.1->widgetsnbextension~=3.6.0->ipywidgets) (1.3.1)\n"
          ]
        }
      ],
      "source": [
        "# ===============================\n",
        "# INSTALLATION DES DÉPENDANCES\n",
        "# ===============================\n",
        "!pip install ipywidgets plotly\n",
        "\n",
        "from google.colab import output\n",
        "output.enable_custom_widget_manager()"
      ]
    },
    {
      "cell_type": "code",
      "source": [
        "# ===============================\n",
        "# IMPORTS\n",
        "# ===============================\n",
        "from IPython.display import display, Markdown\n",
        "import numpy as np\n",
        "import matplotlib.pyplot as plt\n",
        "import ipywidgets as widgets"
      ],
      "metadata": {
        "id": "0Y-a27-_RX0n"
      },
      "execution_count": 5,
      "outputs": []
    },
    {
      "cell_type": "code",
      "source": [
        "# ===============================\n",
        "# MÉTRIQUE WARP SIMPLIFIÉE\n",
        "# ===============================\n",
        "class AlcubierreMetric:\n",
        "    def __init__(self, v_s=0.5, sigma=1.0):\n",
        "        self.v_s = v_s\n",
        "        self.sigma = sigma\n",
        "\n",
        "    def f(self, x, t):\n",
        "        return np.exp(-((x - self.v_s * t) ** 2) / self.sigma ** 2)\n",
        "\n",
        "    def g11(self, x, t):\n",
        "        return (1 - self.v_s * self.f(x, t))**2"
      ],
      "metadata": {
        "id": "ScvuMlLcRbxa"
      },
      "execution_count": 6,
      "outputs": []
    },
    {
      "cell_type": "code",
      "source": [
        "# ===============================\n",
        "# AFFICHAGE INIT\n",
        "# ===============================\n",
        "display(Markdown(\"# Warp Metric Demo\"))\n",
        "display(Markdown(\"Simulation interactive de la composante **g₁₁(x, t)** de la métrique d’Alcubierre.\"))\n",
        "\n",
        "# ===============================\n",
        "# SLIDERS INTERACTIFS\n",
        "# ===============================\n",
        "v_s_slider = widgets.FloatSlider(value=0.5, min=0.01, max=0.99, step=0.01, description='v (c)')\n",
        "sigma_slider = widgets.FloatSlider(value=1.0, min=0.1, max=5.0, step=0.1, description='σ')\n",
        "time_slider = widgets.FloatSlider(value=5.0, min=0, max=20, step=0.1, description='t')\n",
        "\n",
        "def update_plot(v_s, sigma, t):\n",
        "    metric = AlcubierreMetric(v_s, sigma)\n",
        "    x_vals = np.linspace(-10, 10, 400)\n",
        "    g_vals = metric.g11(x_vals, t)\n",
        "\n",
        "    plt.figure(figsize=(10, 4))\n",
        "    plt.plot(x_vals, g_vals, color='cyan')\n",
        "    plt.title(f\"g₁₁(x, t = {t:.2f}) | v = {v_s}, σ = {sigma}\")\n",
        "    plt.xlabel(\"Position x\")\n",
        "    plt.ylabel(\"g₁₁(x, t)\")\n",
        "    plt.ylim(0, 2)\n",
        "    plt.grid(True)\n",
        "    plt.show()\n",
        "\n",
        "out = widgets.interactive_output(update_plot, {\n",
        "    \"v_s\": v_s_slider,\n",
        "    \"sigma\": sigma_slider,\n",
        "    \"t\": time_slider\n",
        "})\n",
        "\n",
        "display(widgets.VBox([v_s_slider, sigma_slider, time_slider, out]))\n",
        "\n",
        "# ===============================\n",
        "# EXTENSION : DIMENSIONS SUPPLÉMENTAIRES\n",
        "# ===============================\n",
        "display(Markdown(\"---\"))\n",
        "display(Markdown(\"## [EN PROJET] Extension vers les dimensions supplémentaires de la théorie des cordes\"))\n",
        "\n",
        "display(Markdown(\"\"\"\n",
        "**Objectifs à venir :**\n",
        "- Étendre la métrique à **6+1 dimensions**\n",
        "- Ajouter une **visualisation 4D ou 5D** par projection ou slicing\n",
        "- Simuler des topologies compactes issues des **espaces de Calabi-Yau**\n",
        "- Représenter **les oscillations des cordes dans les dimensions cachées**\n",
        "\n",
        "### Modules prévus :\n",
        "- `metrics_string_theory.py`\n",
        "- `render/5d_holography.py`\n",
        "- `gravity/dilaton_simulation.py`\n",
        "\n",
        "### Enjeux :\n",
        "- Analyser la stabilité du warp dans un univers à dimensions compactes\n",
        "- Visualiser les effets du couplage gravité-énergie dans une bulle élargie\n",
        "\n",
        "*La physique théorique se branche ici sur les outils du hacker.*\n",
        "\"\"\"))"
      ],
      "metadata": {
        "colab": {
          "base_uri": "https://localhost:8080/",
          "height": 943,
          "referenced_widgets": [
            "df2b8bf136fb4d7195fb7dffcb02d1bd",
            "b4d60b5a0c3841c69d6877b8d74b93bb",
            "045397e9517c401da897814a51743faf",
            "74edf4d697c54c2f9eab7c476a9fce16",
            "33a9e091841c4300bf7cc0302e8c62ac",
            "57c268e8d9234ad7a82674991ad5cf17",
            "e53f04ac42014257a253ee62101633f3",
            "07b7f83e73404941869c3ed99e7b0ff3",
            "0a7d05ce9b3b47089172025e0e08477e",
            "a0350a6ae6394b119e595975ea77a124",
            "dcc9ee5f2fef421aa331c4179c740e58",
            "c92e7a516e1c4b1d9d7d682bba3fe556",
            "4e51ad5b7cdd49efbe7f3d006d3bf04a"
          ]
        },
        "id": "2c-olqzwR2IQ",
        "outputId": "dff4a82d-46ee-4343-926f-a9ed780e0253"
      },
      "execution_count": 11,
      "outputs": [
        {
          "output_type": "display_data",
          "data": {
            "text/plain": [
              "<IPython.core.display.Markdown object>"
            ],
            "text/markdown": "# Warp Metric Demo"
          },
          "metadata": {}
        },
        {
          "output_type": "display_data",
          "data": {
            "text/plain": [
              "<IPython.core.display.Markdown object>"
            ],
            "text/markdown": "Simulation interactive de la composante **g₁₁(x, t)** de la métrique d’Alcubierre."
          },
          "metadata": {}
        },
        {
          "output_type": "display_data",
          "data": {
            "text/plain": [
              "VBox(children=(FloatSlider(value=0.5, description='v (c)', max=0.99, min=0.01, step=0.01), FloatSlider(value=1…"
            ],
            "application/vnd.jupyter.widget-view+json": {
              "version_major": 2,
              "version_minor": 0,
              "model_id": "df2b8bf136fb4d7195fb7dffcb02d1bd"
            }
          },
          "metadata": {
            "application/vnd.jupyter.widget-view+json": {
              "colab": {
                "custom_widget_manager": {
                  "url": "https://ssl.gstatic.com/colaboratory-static/widgets/colab-cdn-widget-manager/2b70e893a8ba7c0f/manager.min.js"
                }
              }
            }
          }
        },
        {
          "output_type": "display_data",
          "data": {
            "text/plain": [
              "<IPython.core.display.Markdown object>"
            ],
            "text/markdown": "---"
          },
          "metadata": {}
        },
        {
          "output_type": "display_data",
          "data": {
            "text/plain": [
              "<IPython.core.display.Markdown object>"
            ],
            "text/markdown": "## [EN PROJET] Extension vers les dimensions supplémentaires de la théorie des cordes"
          },
          "metadata": {}
        },
        {
          "output_type": "display_data",
          "data": {
            "text/plain": [
              "<IPython.core.display.Markdown object>"
            ],
            "text/markdown": "\n**Objectifs à venir :**\n- Étendre la métrique à **6+1 dimensions**\n- Ajouter une **visualisation 4D ou 5D** par projection ou slicing\n- Simuler des topologies compactes issues des **espaces de Calabi-Yau**\n- Représenter **les oscillations des cordes dans les dimensions cachées**\n\n### Modules prévus :\n- `metrics_string_theory.py`\n- `render/5d_holography.py`\n- `gravity/dilaton_simulation.py`\n\n### Enjeux :\n- Analyser la stabilité du warp dans un univers à dimensions compactes\n- Visualiser les effets du couplage gravité-énergie dans une bulle élargie\n\n*La physique théorique se branche ici sur les outils du hacker.*\n"
          },
          "metadata": {}
        }
      ]
    },
    {
      "cell_type": "code",
      "source": [],
      "metadata": {
        "id": "CK3cbb_ASkEp"
      },
      "execution_count": null,
      "outputs": []
    }
  ]
}